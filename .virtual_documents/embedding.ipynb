 with open("the-verdict.txt", "r", encoding="utf-8") as f:
     raw_text = f.read()
 print("Total number of words:", len(raw_text))
 print(raw_text[:99])


import re
preprocessed = re.split(r'([,.?_!"()\']|--|\s)', raw_text)
preprocessed = [item for item in preprocessed if item.strip()]
preprocessed[:10], len(preprocessed)


all_words = sorted(list(set(preprocessed)))
vocab_size = len(all_words)
print(vocab_size)


vocab = {token:integer for integer,token in enumerate(all_words)}
for i, item in enumerate(vocab.items()):
    print(item)
    if i > 10:
        break



